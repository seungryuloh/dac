{
 "cells": [
  {
   "cell_type": "code",
   "execution_count": 1,
   "id": "c40b84dc",
   "metadata": {},
   "outputs": [],
   "source": [
    "import pandas as pd\n",
    "import numpy as np\n",
    "import matplotlib.pyplot as plt\n",
    "import seaborn as sns\n",
    "\n",
    "import warnings\n",
    "warnings.filterwarnings(action='ignore')\n",
    "\n",
    "path = r'C:\\Users\\osr18\\Jupyter_notebook\\dac\\play_store\\googleplaystore.csv'\n",
    "path_1 = r'C:\\Users\\osr18\\Jupyter_notebook\\dac\\play_store\\googleplaystore_user_reviews.csv'\n",
    "\n",
    "play_temp = pd.read_csv(path)\n",
    "review_temp = pd.read_csv(path_1)"
   ]
  },
  {
   "cell_type": "code",
   "execution_count": 2,
   "id": "89337e87",
   "metadata": {
    "scrolled": false
   },
   "outputs": [
    {
     "data": {
      "text/html": [
       "<div>\n",
       "<style scoped>\n",
       "    .dataframe tbody tr th:only-of-type {\n",
       "        vertical-align: middle;\n",
       "    }\n",
       "\n",
       "    .dataframe tbody tr th {\n",
       "        vertical-align: top;\n",
       "    }\n",
       "\n",
       "    .dataframe thead th {\n",
       "        text-align: right;\n",
       "    }\n",
       "</style>\n",
       "<table border=\"1\" class=\"dataframe\">\n",
       "  <thead>\n",
       "    <tr style=\"text-align: right;\">\n",
       "      <th></th>\n",
       "      <th>App</th>\n",
       "      <th>Category</th>\n",
       "      <th>Rating</th>\n",
       "      <th>Reviews</th>\n",
       "      <th>Size</th>\n",
       "      <th>Installs</th>\n",
       "      <th>Type</th>\n",
       "      <th>Price</th>\n",
       "      <th>Content Rating</th>\n",
       "      <th>Genres</th>\n",
       "      <th>Last Updated</th>\n",
       "      <th>Current Ver</th>\n",
       "      <th>Android Ver</th>\n",
       "    </tr>\n",
       "  </thead>\n",
       "  <tbody>\n",
       "    <tr>\n",
       "      <th>0</th>\n",
       "      <td>Photo Editor &amp; Candy Camera &amp; Grid &amp; ScrapBook</td>\n",
       "      <td>ART_AND_DESIGN</td>\n",
       "      <td>4.1</td>\n",
       "      <td>159</td>\n",
       "      <td>19M</td>\n",
       "      <td>10,000+</td>\n",
       "      <td>Free</td>\n",
       "      <td>0</td>\n",
       "      <td>Everyone</td>\n",
       "      <td>Art &amp; Design</td>\n",
       "      <td>January 7, 2018</td>\n",
       "      <td>1.0.0</td>\n",
       "      <td>4.0.3 and up</td>\n",
       "    </tr>\n",
       "    <tr>\n",
       "      <th>1</th>\n",
       "      <td>Coloring book moana</td>\n",
       "      <td>ART_AND_DESIGN</td>\n",
       "      <td>3.9</td>\n",
       "      <td>967</td>\n",
       "      <td>14M</td>\n",
       "      <td>500,000+</td>\n",
       "      <td>Free</td>\n",
       "      <td>0</td>\n",
       "      <td>Everyone</td>\n",
       "      <td>Art &amp; Design;Pretend Play</td>\n",
       "      <td>January 15, 2018</td>\n",
       "      <td>2.0.0</td>\n",
       "      <td>4.0.3 and up</td>\n",
       "    </tr>\n",
       "    <tr>\n",
       "      <th>2</th>\n",
       "      <td>U Launcher Lite – FREE Live Cool Themes, Hide ...</td>\n",
       "      <td>ART_AND_DESIGN</td>\n",
       "      <td>4.7</td>\n",
       "      <td>87510</td>\n",
       "      <td>8.7M</td>\n",
       "      <td>5,000,000+</td>\n",
       "      <td>Free</td>\n",
       "      <td>0</td>\n",
       "      <td>Everyone</td>\n",
       "      <td>Art &amp; Design</td>\n",
       "      <td>August 1, 2018</td>\n",
       "      <td>1.2.4</td>\n",
       "      <td>4.0.3 and up</td>\n",
       "    </tr>\n",
       "    <tr>\n",
       "      <th>3</th>\n",
       "      <td>Sketch - Draw &amp; Paint</td>\n",
       "      <td>ART_AND_DESIGN</td>\n",
       "      <td>4.5</td>\n",
       "      <td>215644</td>\n",
       "      <td>25M</td>\n",
       "      <td>50,000,000+</td>\n",
       "      <td>Free</td>\n",
       "      <td>0</td>\n",
       "      <td>Teen</td>\n",
       "      <td>Art &amp; Design</td>\n",
       "      <td>June 8, 2018</td>\n",
       "      <td>Varies with device</td>\n",
       "      <td>4.2 and up</td>\n",
       "    </tr>\n",
       "    <tr>\n",
       "      <th>4</th>\n",
       "      <td>Pixel Draw - Number Art Coloring Book</td>\n",
       "      <td>ART_AND_DESIGN</td>\n",
       "      <td>4.3</td>\n",
       "      <td>967</td>\n",
       "      <td>2.8M</td>\n",
       "      <td>100,000+</td>\n",
       "      <td>Free</td>\n",
       "      <td>0</td>\n",
       "      <td>Everyone</td>\n",
       "      <td>Art &amp; Design;Creativity</td>\n",
       "      <td>June 20, 2018</td>\n",
       "      <td>1.1</td>\n",
       "      <td>4.4 and up</td>\n",
       "    </tr>\n",
       "  </tbody>\n",
       "</table>\n",
       "</div>"
      ],
      "text/plain": [
       "                                                 App        Category  Rating  \\\n",
       "0     Photo Editor & Candy Camera & Grid & ScrapBook  ART_AND_DESIGN     4.1   \n",
       "1                                Coloring book moana  ART_AND_DESIGN     3.9   \n",
       "2  U Launcher Lite – FREE Live Cool Themes, Hide ...  ART_AND_DESIGN     4.7   \n",
       "3                              Sketch - Draw & Paint  ART_AND_DESIGN     4.5   \n",
       "4              Pixel Draw - Number Art Coloring Book  ART_AND_DESIGN     4.3   \n",
       "\n",
       "  Reviews  Size     Installs  Type Price Content Rating  \\\n",
       "0     159   19M      10,000+  Free     0       Everyone   \n",
       "1     967   14M     500,000+  Free     0       Everyone   \n",
       "2   87510  8.7M   5,000,000+  Free     0       Everyone   \n",
       "3  215644   25M  50,000,000+  Free     0           Teen   \n",
       "4     967  2.8M     100,000+  Free     0       Everyone   \n",
       "\n",
       "                      Genres      Last Updated         Current Ver  \\\n",
       "0               Art & Design   January 7, 2018               1.0.0   \n",
       "1  Art & Design;Pretend Play  January 15, 2018               2.0.0   \n",
       "2               Art & Design    August 1, 2018               1.2.4   \n",
       "3               Art & Design      June 8, 2018  Varies with device   \n",
       "4    Art & Design;Creativity     June 20, 2018                 1.1   \n",
       "\n",
       "    Android Ver  \n",
       "0  4.0.3 and up  \n",
       "1  4.0.3 and up  \n",
       "2  4.0.3 and up  \n",
       "3    4.2 and up  \n",
       "4    4.4 and up  "
      ]
     },
     "execution_count": 2,
     "metadata": {},
     "output_type": "execute_result"
    }
   ],
   "source": [
    "play_temp.head(5)"
   ]
  },
  {
   "cell_type": "code",
   "execution_count": 3,
   "id": "320d20e4",
   "metadata": {
    "scrolled": true
   },
   "outputs": [
    {
     "data": {
      "text/plain": [
       "App                object\n",
       "Category           object\n",
       "Rating            float64\n",
       "Reviews            object\n",
       "Size               object\n",
       "Installs           object\n",
       "Type               object\n",
       "Price              object\n",
       "Content Rating     object\n",
       "Genres             object\n",
       "Last Updated       object\n",
       "Current Ver        object\n",
       "Android Ver        object\n",
       "dtype: object"
      ]
     },
     "execution_count": 3,
     "metadata": {},
     "output_type": "execute_result"
    }
   ],
   "source": [
    "play_temp.dtypes"
   ]
  },
  {
   "cell_type": "code",
   "execution_count": 4,
   "id": "71db3029",
   "metadata": {},
   "outputs": [],
   "source": [
    "#play_temp[\"Installs\"].unique()\n",
    "play_temp[\"Installs\"] = play_temp[\"Installs\"].str.replace(pat=r'[^\\w]', repl=r'', regex=True)\n",
    "play_temp = play_temp.drop(play_temp.loc[play_temp['Installs'] == 'Free'].index)\n",
    "play_temp['Installs'] = play_temp['Installs'].astype(int)"
   ]
  },
  {
   "cell_type": "code",
   "execution_count": 5,
   "id": "97145f18",
   "metadata": {},
   "outputs": [],
   "source": [
    "play_temp['Reviews'] = play_temp['Reviews'].astype(int)"
   ]
  },
  {
   "cell_type": "code",
   "execution_count": 6,
   "id": "f9039c0f",
   "metadata": {},
   "outputs": [],
   "source": [
    "#play_temp['Type'].unique()\n",
    "play_temp.dropna(subset=['Type'], inplace=True)\n",
    "type_map = {'Free' : 1, 'Paid' : 2}\n",
    "play_temp['Type_new'] = play_temp['Type'].map(type_map).astype(int)"
   ]
  },
  {
   "cell_type": "code",
   "execution_count": 7,
   "id": "148271c1",
   "metadata": {},
   "outputs": [],
   "source": [
    "play_temp[\"Price\"] = play_temp[\"Price\"].str.replace(pat=r'[^\\w]', repl=r'', regex=True)\n",
    "play_temp['Price'] = play_temp['Price'].astype(int)"
   ]
  },
  {
   "cell_type": "code",
   "execution_count": 8,
   "id": "834ef27c",
   "metadata": {},
   "outputs": [],
   "source": [
    "#genres_counts = play_temp['Genres'].value_counts()\n",
    "#genres_counts.loc[genres_counts > 30]"
   ]
  },
  {
   "cell_type": "code",
   "execution_count": 9,
   "id": "6ed57c38",
   "metadata": {},
   "outputs": [],
   "source": [
    "#play_temp['Category'].unique()\n",
    "category_map = {'ART_AND_DESIGN' : 1, 'AUTO_AND_VEHICLES' : 2, 'BEAUTY' : 3, \n",
    "                'BOOKS_AND_REFERENCE' : 4, 'BUSINESS' : 5, 'COMICS' : 6, 'COMMUNICATION' : 7,\n",
    "                'DATING' : 8, 'EDUCATION' : 9, 'ENTERTAINMENT' : 10, 'EVENTS' : 11, 'FINANCE' : 12,\n",
    "                'FOOD_AND_DRINK' : 13, 'HEALTH_AND_FITNESS' : 14, 'HOUSE_AND_HOME' : 15,\n",
    "                'LIBRARIES_AND_DEMO' : 16, 'LIFESTYLE' : 17, 'GAME' : 18, 'FAMILY' : 19, 'MEDICAL' : 20,\n",
    "                'SOCIAL' : 21, 'SHOPPING' : 22, 'PHOTOGRAPHY' : 23, 'SPORTS' : 24, 'TRAVEL_AND_LOCAL' : 25,\n",
    "                'TOOLS' : 26, 'PERSONALIZATION' : 27, 'PRODUCTIVITY' : 28, 'PARENTING' : 29, 'WEATHER' : 30,\n",
    "                'VIDEO_PLAYERS' : 31, 'NEWS_AND_MAGAZINES' : 32, 'MAPS_AND_NAVIGATION' : 33}\n",
    "play_temp['Category_new'] = play_temp['Category'].map(category_map).astype(int)\n",
    "#play_temp.groupby(['Category']).mean().sort_values(by=['Rating'], ascending=False)"
   ]
  },
  {
   "cell_type": "code",
   "execution_count": 10,
   "id": "847c873d",
   "metadata": {},
   "outputs": [],
   "source": [
    "#play_temp['Content Rating'].unique()\n",
    "content_rating_map = {'Everyone' : 1, 'Teen' : 2, 'Everyone 10+' : 3, 'Mature 17+' : 4,\n",
    "                      'Adults only 18+' : 5, 'Unrated' : 6}\n",
    "play_temp['Content_rating_new'] = play_temp['Content Rating'].map(content_rating_map).astype(int)"
   ]
  },
  {
   "cell_type": "code",
   "execution_count": 11,
   "id": "c2b38dbe",
   "metadata": {},
   "outputs": [],
   "source": [
    "play_temp = play_temp.drop(play_temp.loc[play_temp['Category'] == '1.9'].index)"
   ]
  },
  {
   "cell_type": "code",
   "execution_count": 12,
   "id": "607fc7af",
   "metadata": {},
   "outputs": [],
   "source": [
    "#play_temp_drop = play_temp.dropna(subset=['Rating']) Rating의 NaN 값을 삭제?\n",
    "play_temp['Rating'] = play_temp.groupby(['Category'])['Rating'].apply(lambda x : x.fillna(x.mean())) \n",
    "#카테고리 별 Rating의 평균 값으로 채움"
   ]
  },
  {
   "cell_type": "code",
   "execution_count": 13,
   "id": "6b3636f8",
   "metadata": {},
   "outputs": [
    {
     "data": {
      "text/plain": [
       "App                   0\n",
       "Category              0\n",
       "Rating                0\n",
       "Reviews               0\n",
       "Size                  0\n",
       "Installs              0\n",
       "Type                  0\n",
       "Price                 0\n",
       "Content Rating        0\n",
       "Genres                0\n",
       "Last Updated          0\n",
       "Current Ver           8\n",
       "Android Ver           2\n",
       "Type_new              0\n",
       "Category_new          0\n",
       "Content_rating_new    0\n",
       "dtype: int64"
      ]
     },
     "execution_count": 13,
     "metadata": {},
     "output_type": "execute_result"
    }
   ],
   "source": [
    "play_temp.isna().sum()"
   ]
  },
  {
   "cell_type": "code",
   "execution_count": 14,
   "id": "0bebc2a0",
   "metadata": {
    "scrolled": false
   },
   "outputs": [
    {
     "name": "stdout",
     "output_type": "stream",
     "text": [
      "<class 'pandas.core.frame.DataFrame'>\n",
      "Int64Index: 10839 entries, 0 to 10840\n",
      "Data columns (total 16 columns):\n",
      " #   Column              Non-Null Count  Dtype  \n",
      "---  ------              --------------  -----  \n",
      " 0   App                 10839 non-null  object \n",
      " 1   Category            10839 non-null  object \n",
      " 2   Rating              10839 non-null  float64\n",
      " 3   Reviews             10839 non-null  int32  \n",
      " 4   Size                10839 non-null  object \n",
      " 5   Installs            10839 non-null  int32  \n",
      " 6   Type                10839 non-null  object \n",
      " 7   Price               10839 non-null  int32  \n",
      " 8   Content Rating      10839 non-null  object \n",
      " 9   Genres              10839 non-null  object \n",
      " 10  Last Updated        10839 non-null  object \n",
      " 11  Current Ver         10831 non-null  object \n",
      " 12  Android Ver         10837 non-null  object \n",
      " 13  Type_new            10839 non-null  int32  \n",
      " 14  Category_new        10839 non-null  int32  \n",
      " 15  Content_rating_new  10839 non-null  int32  \n",
      "dtypes: float64(1), int32(6), object(9)\n",
      "memory usage: 1.4+ MB\n"
     ]
    }
   ],
   "source": [
    "play_temp.info()"
   ]
  },
  {
   "cell_type": "code",
   "execution_count": 15,
   "id": "cfed2a7d",
   "metadata": {},
   "outputs": [],
   "source": [
    "category_mean = play_temp.groupby(['Category']).mean().sort_values(by=['Rating'], ascending=True)"
   ]
  },
  {
   "cell_type": "code",
   "execution_count": 16,
   "id": "f04d0b77",
   "metadata": {
    "scrolled": false
   },
   "outputs": [
    {
     "data": {
      "text/plain": [
       "<BarContainer object of 33 artists>"
      ]
     },
     "execution_count": 16,
     "metadata": {},
     "output_type": "execute_result"
    },
    {
     "data": {
      "image/png": "[encoded data removed]",
      "text/plain": [
       "<Figure size 1080x720 with 1 Axes>"
      ]
     },
     "metadata": {
      "needs_background": "light"
     },
     "output_type": "display_data"
    }
   ],
   "source": [
    "plt.figure(figsize=(15,10))\n",
    "plt.barh(category_mean.index, category_mean['Rating'])"
   ]
  },
  {
   "cell_type": "code",
   "execution_count": 17,
   "id": "3bab0293",
   "metadata": {},
   "outputs": [
    {
     "data": {
      "text/html": [
       "<div>\n",
       "<style scoped>\n",
       "    .dataframe tbody tr th:only-of-type {\n",
       "        vertical-align: middle;\n",
       "    }\n",
       "\n",
       "    .dataframe tbody tr th {\n",
       "        vertical-align: top;\n",
       "    }\n",
       "\n",
       "    .dataframe thead th {\n",
       "        text-align: right;\n",
       "    }\n",
       "</style>\n",
       "<table border=\"1\" class=\"dataframe\">\n",
       "  <thead>\n",
       "    <tr style=\"text-align: right;\">\n",
       "      <th></th>\n",
       "      <th>Reviews</th>\n",
       "      <th>Installs</th>\n",
       "      <th>Price</th>\n",
       "      <th>Type_new</th>\n",
       "      <th>Category_new</th>\n",
       "      <th>Content_rating_new</th>\n",
       "      <th>Rating</th>\n",
       "    </tr>\n",
       "  </thead>\n",
       "  <tbody>\n",
       "    <tr>\n",
       "      <th>0</th>\n",
       "      <td>159</td>\n",
       "      <td>10000</td>\n",
       "      <td>0</td>\n",
       "      <td>1</td>\n",
       "      <td>1</td>\n",
       "      <td>1</td>\n",
       "      <td>4.1</td>\n",
       "    </tr>\n",
       "    <tr>\n",
       "      <th>1</th>\n",
       "      <td>967</td>\n",
       "      <td>500000</td>\n",
       "      <td>0</td>\n",
       "      <td>1</td>\n",
       "      <td>1</td>\n",
       "      <td>1</td>\n",
       "      <td>3.9</td>\n",
       "    </tr>\n",
       "    <tr>\n",
       "      <th>2</th>\n",
       "      <td>87510</td>\n",
       "      <td>5000000</td>\n",
       "      <td>0</td>\n",
       "      <td>1</td>\n",
       "      <td>1</td>\n",
       "      <td>1</td>\n",
       "      <td>4.7</td>\n",
       "    </tr>\n",
       "    <tr>\n",
       "      <th>3</th>\n",
       "      <td>215644</td>\n",
       "      <td>50000000</td>\n",
       "      <td>0</td>\n",
       "      <td>1</td>\n",
       "      <td>1</td>\n",
       "      <td>2</td>\n",
       "      <td>4.5</td>\n",
       "    </tr>\n",
       "    <tr>\n",
       "      <th>4</th>\n",
       "      <td>967</td>\n",
       "      <td>100000</td>\n",
       "      <td>0</td>\n",
       "      <td>1</td>\n",
       "      <td>1</td>\n",
       "      <td>1</td>\n",
       "      <td>4.3</td>\n",
       "    </tr>\n",
       "  </tbody>\n",
       "</table>\n",
       "</div>"
      ],
      "text/plain": [
       "   Reviews  Installs  Price  Type_new  Category_new  Content_rating_new  \\\n",
       "0      159     10000      0         1             1                   1   \n",
       "1      967    500000      0         1             1                   1   \n",
       "2    87510   5000000      0         1             1                   1   \n",
       "3   215644  50000000      0         1             1                   2   \n",
       "4      967    100000      0         1             1                   1   \n",
       "\n",
       "   Rating  \n",
       "0     4.1  \n",
       "1     3.9  \n",
       "2     4.7  \n",
       "3     4.5  \n",
       "4     4.3  "
      ]
     },
     "execution_count": 17,
     "metadata": {},
     "output_type": "execute_result"
    }
   ],
   "source": [
    "play_set = play_temp[['Reviews', 'Installs', 'Price', 'Type_new', 'Category_new', 'Content_rating_new', 'Rating']]\n",
    "play_set.head(5)\n",
    "#Size, Update 날짜도 추후 비교"
   ]
  },
  {
   "cell_type": "code",
   "execution_count": null,
   "id": "24d0559a",
   "metadata": {},
   "outputs": [],
   "source": []
  }
 ],
 "metadata": {
  "kernelspec": {
   "display_name": "Python 3",
   "language": "python",
   "name": "python3"
  },
  "language_info": {
   "codemirror_mode": {
    "name": "ipython",
    "version": 3
   },
   "file_extension": ".py",
   "mimetype": "text/x-python",
   "name": "python",
   "nbconvert_exporter": "python",
   "pygments_lexer": "ipython3",
   "version": "3.9.4"
  }
 },
 "nbformat": 4,
 "nbformat_minor": 5
}
