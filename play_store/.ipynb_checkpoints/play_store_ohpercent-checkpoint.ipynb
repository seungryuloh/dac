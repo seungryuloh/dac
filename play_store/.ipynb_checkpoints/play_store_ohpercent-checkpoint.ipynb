{
 "cells": [
  {
   "cell_type": "code",
   "execution_count": 1,
   "id": "f734cb3f",
   "metadata": {},
   "outputs": [],
   "source": [
    "import pandas as pd\n",
    "import numpy as np\n",
    "import matplotlib.pyplot as plt\n",
    "import seaborn as sns\n",
    "\n",
    "import warnings\n",
    "warnings.filterwarnings(action='ignore')\n",
    "\n",
    "path = r'C:\\Users\\osr18\\Jupyter_notebook\\dac\\play_store\\googleplaystore.csv'\n",
    "path_1 = r'C:\\Users\\osr18\\Jupyter_notebook\\dac\\play_store\\googleplaystore_user_reviews.csv'\n",
    "\n",
    "play_temp = pd.read_csv(path)\n",
    "review_temp = pd.read_csv(path_1)"
   ]
  },
  {
   "cell_type": "code",
   "execution_count": 2,
   "id": "32305bf6",
   "metadata": {
    "scrolled": true
   },
   "outputs": [
    {
     "data": {
      "text/html": [
       "<div>\n",
       "<style scoped>\n",
       "    .dataframe tbody tr th:only-of-type {\n",
       "        vertical-align: middle;\n",
       "    }\n",
       "\n",
       "    .dataframe tbody tr th {\n",
       "        vertical-align: top;\n",
       "    }\n",
       "\n",
       "    .dataframe thead th {\n",
       "        text-align: right;\n",
       "    }\n",
       "</style>\n",
       "<table border=\"1\" class=\"dataframe\">\n",
       "  <thead>\n",
       "    <tr style=\"text-align: right;\">\n",
       "      <th></th>\n",
       "      <th>App</th>\n",
       "      <th>Category</th>\n",
       "      <th>Rating</th>\n",
       "      <th>Reviews</th>\n",
       "      <th>Size</th>\n",
       "      <th>Installs</th>\n",
       "      <th>Type</th>\n",
       "      <th>Price</th>\n",
       "      <th>Content Rating</th>\n",
       "      <th>Genres</th>\n",
       "      <th>Last Updated</th>\n",
       "      <th>Current Ver</th>\n",
       "      <th>Android Ver</th>\n",
       "    </tr>\n",
       "  </thead>\n",
       "  <tbody>\n",
       "    <tr>\n",
       "      <th>0</th>\n",
       "      <td>Photo Editor &amp; Candy Camera &amp; Grid &amp; ScrapBook</td>\n",
       "      <td>ART_AND_DESIGN</td>\n",
       "      <td>4.1</td>\n",
       "      <td>159</td>\n",
       "      <td>19M</td>\n",
       "      <td>10,000+</td>\n",
       "      <td>Free</td>\n",
       "      <td>0</td>\n",
       "      <td>Everyone</td>\n",
       "      <td>Art &amp; Design</td>\n",
       "      <td>January 7, 2018</td>\n",
       "      <td>1.0.0</td>\n",
       "      <td>4.0.3 and up</td>\n",
       "    </tr>\n",
       "    <tr>\n",
       "      <th>1</th>\n",
       "      <td>Coloring book moana</td>\n",
       "      <td>ART_AND_DESIGN</td>\n",
       "      <td>3.9</td>\n",
       "      <td>967</td>\n",
       "      <td>14M</td>\n",
       "      <td>500,000+</td>\n",
       "      <td>Free</td>\n",
       "      <td>0</td>\n",
       "      <td>Everyone</td>\n",
       "      <td>Art &amp; Design;Pretend Play</td>\n",
       "      <td>January 15, 2018</td>\n",
       "      <td>2.0.0</td>\n",
       "      <td>4.0.3 and up</td>\n",
       "    </tr>\n",
       "    <tr>\n",
       "      <th>2</th>\n",
       "      <td>U Launcher Lite – FREE Live Cool Themes, Hide ...</td>\n",
       "      <td>ART_AND_DESIGN</td>\n",
       "      <td>4.7</td>\n",
       "      <td>87510</td>\n",
       "      <td>8.7M</td>\n",
       "      <td>5,000,000+</td>\n",
       "      <td>Free</td>\n",
       "      <td>0</td>\n",
       "      <td>Everyone</td>\n",
       "      <td>Art &amp; Design</td>\n",
       "      <td>August 1, 2018</td>\n",
       "      <td>1.2.4</td>\n",
       "      <td>4.0.3 and up</td>\n",
       "    </tr>\n",
       "    <tr>\n",
       "      <th>3</th>\n",
       "      <td>Sketch - Draw &amp; Paint</td>\n",
       "      <td>ART_AND_DESIGN</td>\n",
       "      <td>4.5</td>\n",
       "      <td>215644</td>\n",
       "      <td>25M</td>\n",
       "      <td>50,000,000+</td>\n",
       "      <td>Free</td>\n",
       "      <td>0</td>\n",
       "      <td>Teen</td>\n",
       "      <td>Art &amp; Design</td>\n",
       "      <td>June 8, 2018</td>\n",
       "      <td>Varies with device</td>\n",
       "      <td>4.2 and up</td>\n",
       "    </tr>\n",
       "    <tr>\n",
       "      <th>4</th>\n",
       "      <td>Pixel Draw - Number Art Coloring Book</td>\n",
       "      <td>ART_AND_DESIGN</td>\n",
       "      <td>4.3</td>\n",
       "      <td>967</td>\n",
       "      <td>2.8M</td>\n",
       "      <td>100,000+</td>\n",
       "      <td>Free</td>\n",
       "      <td>0</td>\n",
       "      <td>Everyone</td>\n",
       "      <td>Art &amp; Design;Creativity</td>\n",
       "      <td>June 20, 2018</td>\n",
       "      <td>1.1</td>\n",
       "      <td>4.4 and up</td>\n",
       "    </tr>\n",
       "  </tbody>\n",
       "</table>\n",
       "</div>"
      ],
      "text/plain": [
       "                                                 App        Category  Rating  \\\n",
       "0     Photo Editor & Candy Camera & Grid & ScrapBook  ART_AND_DESIGN     4.1   \n",
       "1                                Coloring book moana  ART_AND_DESIGN     3.9   \n",
       "2  U Launcher Lite – FREE Live Cool Themes, Hide ...  ART_AND_DESIGN     4.7   \n",
       "3                              Sketch - Draw & Paint  ART_AND_DESIGN     4.5   \n",
       "4              Pixel Draw - Number Art Coloring Book  ART_AND_DESIGN     4.3   \n",
       "\n",
       "  Reviews  Size     Installs  Type Price Content Rating  \\\n",
       "0     159   19M      10,000+  Free     0       Everyone   \n",
       "1     967   14M     500,000+  Free     0       Everyone   \n",
       "2   87510  8.7M   5,000,000+  Free     0       Everyone   \n",
       "3  215644   25M  50,000,000+  Free     0           Teen   \n",
       "4     967  2.8M     100,000+  Free     0       Everyone   \n",
       "\n",
       "                      Genres      Last Updated         Current Ver  \\\n",
       "0               Art & Design   January 7, 2018               1.0.0   \n",
       "1  Art & Design;Pretend Play  January 15, 2018               2.0.0   \n",
       "2               Art & Design    August 1, 2018               1.2.4   \n",
       "3               Art & Design      June 8, 2018  Varies with device   \n",
       "4    Art & Design;Creativity     June 20, 2018                 1.1   \n",
       "\n",
       "    Android Ver  \n",
       "0  4.0.3 and up  \n",
       "1  4.0.3 and up  \n",
       "2  4.0.3 and up  \n",
       "3    4.2 and up  \n",
       "4    4.4 and up  "
      ]
     },
     "execution_count": 2,
     "metadata": {},
     "output_type": "execute_result"
    }
   ],
   "source": [
    "play_temp.head(5)"
   ]
  },
  {
   "cell_type": "code",
   "execution_count": 3,
   "id": "320d20e4",
   "metadata": {
    "scrolled": true
   },
   "outputs": [
    {
     "data": {
      "text/plain": [
       "App                object\n",
       "Category           object\n",
       "Rating            float64\n",
       "Reviews            object\n",
       "Size               object\n",
       "Installs           object\n",
       "Type               object\n",
       "Price              object\n",
       "Content Rating     object\n",
       "Genres             object\n",
       "Last Updated       object\n",
       "Current Ver        object\n",
       "Android Ver        object\n",
       "dtype: object"
      ]
     },
     "execution_count": 3,
     "metadata": {},
     "output_type": "execute_result"
    }
   ],
   "source": [
    "play_temp.dtypes"
   ]
  },
  {
   "cell_type": "markdown",
   "id": "e64b64d6",
   "metadata": {},
   "source": [
    "# 데이터 전처리\n",
    "## 칼럼 : Installs 특수 기호 제거, int로 변경"
   ]
  },
  {
   "cell_type": "code",
   "execution_count": 4,
   "id": "71db3029",
   "metadata": {},
   "outputs": [],
   "source": [
    "#play_temp[\"Installs\"].unique()\n",
    "play_temp[\"Installs\"] = play_temp[\"Installs\"].str.replace(pat=r'[^\\w]', repl=r'', regex=True)\n",
    "play_temp = play_temp.drop(play_temp.loc[play_temp['Installs'] == 'Free'].index)\n",
    "play_temp['Installs'] = play_temp['Installs'].astype(int)"
   ]
  },
  {
   "cell_type": "markdown",
   "id": "c6315bf7",
   "metadata": {},
   "source": [
    "## 칼럼 : Reviews int로 변경"
   ]
  },
  {
   "cell_type": "code",
   "execution_count": 5,
   "id": "97145f18",
   "metadata": {},
   "outputs": [],
   "source": [
    "play_temp['Reviews'] = play_temp['Reviews'].astype(int)"
   ]
  },
  {
   "cell_type": "markdown",
   "id": "07cb8c2f",
   "metadata": {},
   "source": [
    "## 칼럼 : Type 결측 값 제거 및 맵핑, int로 변경"
   ]
  },
  {
   "cell_type": "code",
   "execution_count": 6,
   "id": "f9039c0f",
   "metadata": {},
   "outputs": [],
   "source": [
    "#play_temp['Type'].unique()\n",
    "play_temp.dropna(subset=['Type'], inplace=True)\n",
    "type_map = {'Free' : 1, 'Paid' : 2}\n",
    "play_temp['Type_new'] = play_temp['Type'].map(type_map).astype(int)"
   ]
  },
  {
   "cell_type": "markdown",
   "id": "3ab2f102",
   "metadata": {},
   "source": [
    "## 칼럼 : Price 특수 기호 제거, int로 변경"
   ]
  },
  {
   "cell_type": "code",
   "execution_count": 7,
   "id": "148271c1",
   "metadata": {},
   "outputs": [],
   "source": [
    "play_temp[\"Price\"] = play_temp[\"Price\"].str.replace(pat=r'[^\\w]', repl=r'', regex=True)\n",
    "play_temp['Price'] = play_temp['Price'].astype(int)"
   ]
  },
  {
   "cell_type": "markdown",
   "id": "1bd21b39",
   "metadata": {},
   "source": [
    "## 칼럼 : Last Updated datetime로 변경"
   ]
  },
  {
   "cell_type": "code",
   "execution_count": 8,
   "id": "18f5afdb",
   "metadata": {},
   "outputs": [],
   "source": [
    "play_temp['Last Updated'] = pd.to_datetime(play_temp['Last Updated'])"
   ]
  },
  {
   "cell_type": "markdown",
   "id": "889174c9",
   "metadata": {},
   "source": [
    "## 칼럼 : Size 특수 기호 제거, int로 변경"
   ]
  },
  {
   "cell_type": "code",
   "execution_count": 9,
   "id": "cc8377e2",
   "metadata": {},
   "outputs": [],
   "source": [
    "def value_to_int(df_value):\n",
    "    try:\n",
    "        value = float(df_value[1:-1])\n",
    "        suffix = df_value[-1:]\n",
    "\n",
    "        if suffix == 'M':\n",
    "            value = value * 1000000\n",
    "        elif suffix == 'K':\n",
    "            value = value * 1000\n",
    "    except ValueError:\n",
    "        value = 0\n",
    "    return value\n",
    "\n",
    "play_temp['Size'] = play_temp['Size'].apply(value_to_int)"
   ]
  },
  {
   "cell_type": "markdown",
   "id": "9b0125be",
   "metadata": {},
   "source": [
    "## 칼럼 : Genres는 유니크 칼럼이 너무 많아서 그냥 카테고리 칼럼을 활용"
   ]
  },
  {
   "cell_type": "code",
   "execution_count": 10,
   "id": "834ef27c",
   "metadata": {},
   "outputs": [],
   "source": [
    "#genres_counts = play_temp['Genres'].value_counts()\n",
    "#genres_counts.loc[genres_counts > 30]"
   ]
  },
  {
   "cell_type": "markdown",
   "id": "5a38199e",
   "metadata": {},
   "source": [
    "## 칼럼 : Category 맵핑 및 이상 값 제거, int로 변경"
   ]
  },
  {
   "cell_type": "code",
   "execution_count": 11,
   "id": "6ed57c38",
   "metadata": {},
   "outputs": [],
   "source": [
    "#play_temp['Category'].unique()\n",
    "category_map = {'ART_AND_DESIGN' : 1, 'AUTO_AND_VEHICLES' : 2, 'BEAUTY' : 3, \n",
    "                'BOOKS_AND_REFERENCE' : 4, 'BUSINESS' : 5, 'COMICS' : 6, 'COMMUNICATION' : 7,\n",
    "                'DATING' : 8, 'EDUCATION' : 9, 'ENTERTAINMENT' : 10, 'EVENTS' : 11, 'FINANCE' : 12,\n",
    "                'FOOD_AND_DRINK' : 13, 'HEALTH_AND_FITNESS' : 14, 'HOUSE_AND_HOME' : 15,\n",
    "                'LIBRARIES_AND_DEMO' : 16, 'LIFESTYLE' : 17, 'GAME' : 18, 'FAMILY' : 19, 'MEDICAL' : 20,\n",
    "                'SOCIAL' : 21, 'SHOPPING' : 22, 'PHOTOGRAPHY' : 23, 'SPORTS' : 24, 'TRAVEL_AND_LOCAL' : 25,\n",
    "                'TOOLS' : 26, 'PERSONALIZATION' : 27, 'PRODUCTIVITY' : 28, 'PARENTING' : 29, 'WEATHER' : 30,\n",
    "                'VIDEO_PLAYERS' : 31, 'NEWS_AND_MAGAZINES' : 32, 'MAPS_AND_NAVIGATION' : 33}\n",
    "play_temp['Category_new'] = play_temp['Category'].map(category_map).astype(int)\n",
    "#play_temp.groupby(['Category']).mean().sort_values(by=['Rating'], ascending=False)\n",
    "\n",
    "play_temp = play_temp.drop(play_temp.loc[play_temp['Category'] == '1.9'].index)"
   ]
  },
  {
   "cell_type": "markdown",
   "id": "06d9a959",
   "metadata": {},
   "source": [
    "## 칼럼 : Content Rating 맵핑 및 int로 변경"
   ]
  },
  {
   "cell_type": "code",
   "execution_count": 12,
   "id": "847c873d",
   "metadata": {},
   "outputs": [],
   "source": [
    "#play_temp['Content Rating'].unique()\n",
    "content_rating_map = {'Everyone' : 1, 'Teen' : 2, 'Everyone 10+' : 3, 'Mature 17+' : 4,\n",
    "                      'Adults only 18+' : 5, 'Unrated' : 6}\n",
    "play_temp['Content_rating_new'] = play_temp['Content Rating'].map(content_rating_map).astype(int)"
   ]
  },
  {
   "cell_type": "markdown",
   "id": "f32d5efb",
   "metadata": {},
   "source": [
    "## 칼럼 : Rating 결측 값 채우기(각 카테고리별 평균)"
   ]
  },
  {
   "cell_type": "code",
   "execution_count": 13,
   "id": "607fc7af",
   "metadata": {},
   "outputs": [],
   "source": [
    "#play_temp_drop = play_temp.dropna(subset=['Rating']) Rating의 NaN 값을 삭제?\n",
    "play_temp['Rating'] = play_temp.groupby(['Category'])['Rating'].apply(lambda x : x.fillna(x.mean())) \n",
    "#카테고리 별 Rating의 평균 값으로 채움"
   ]
  },
  {
   "cell_type": "code",
   "execution_count": 14,
   "id": "6b3636f8",
   "metadata": {},
   "outputs": [
    {
     "data": {
      "text/plain": [
       "App                   0\n",
       "Category              0\n",
       "Rating                0\n",
       "Reviews               0\n",
       "Size                  0\n",
       "Installs              0\n",
       "Type                  0\n",
       "Price                 0\n",
       "Content Rating        0\n",
       "Genres                0\n",
       "Last Updated          0\n",
       "Current Ver           8\n",
       "Android Ver           2\n",
       "Type_new              0\n",
       "Category_new          0\n",
       "Content_rating_new    0\n",
       "dtype: int64"
      ]
     },
     "execution_count": 14,
     "metadata": {},
     "output_type": "execute_result"
    }
   ],
   "source": [
    "play_temp.isna().sum()"
   ]
  },
  {
   "cell_type": "markdown",
   "id": "ab939253",
   "metadata": {},
   "source": [
    "## 전체 칼럼에서 app명, current ver, android ver은 사용하지 않음."
   ]
  },
  {
   "cell_type": "code",
   "execution_count": 15,
   "id": "0bebc2a0",
   "metadata": {
    "scrolled": false
   },
   "outputs": [
    {
     "name": "stdout",
     "output_type": "stream",
     "text": [
      "<class 'pandas.core.frame.DataFrame'>\n",
      "Int64Index: 10839 entries, 0 to 10840\n",
      "Data columns (total 16 columns):\n",
      " #   Column              Non-Null Count  Dtype         \n",
      "---  ------              --------------  -----         \n",
      " 0   App                 10839 non-null  object        \n",
      " 1   Category            10839 non-null  object        \n",
      " 2   Rating              10839 non-null  float64       \n",
      " 3   Reviews             10839 non-null  int32         \n",
      " 4   Size                10839 non-null  float64       \n",
      " 5   Installs            10839 non-null  int32         \n",
      " 6   Type                10839 non-null  object        \n",
      " 7   Price               10839 non-null  int32         \n",
      " 8   Content Rating      10839 non-null  object        \n",
      " 9   Genres              10839 non-null  object        \n",
      " 10  Last Updated        10839 non-null  datetime64[ns]\n",
      " 11  Current Ver         10831 non-null  object        \n",
      " 12  Android Ver         10837 non-null  object        \n",
      " 13  Type_new            10839 non-null  int32         \n",
      " 14  Category_new        10839 non-null  int32         \n",
      " 15  Content_rating_new  10839 non-null  int32         \n",
      "dtypes: datetime64[ns](1), float64(2), int32(6), object(7)\n",
      "memory usage: 1.4+ MB\n"
     ]
    }
   ],
   "source": [
    "play_temp.info()"
   ]
  },
  {
   "cell_type": "code",
   "execution_count": 16,
   "id": "bc4566ce",
   "metadata": {},
   "outputs": [
    {
     "data": {
      "text/plain": [
       "Index(['App', 'Category', 'Rating', 'Reviews', 'Size', 'Installs', 'Type',\n",
       "       'Price', 'Content Rating', 'Genres', 'Last Updated', 'Current Ver',\n",
       "       'Android Ver', 'Type_new', 'Category_new', 'Content_rating_new'],\n",
       "      dtype='object')"
      ]
     },
     "execution_count": 16,
     "metadata": {},
     "output_type": "execute_result"
    }
   ],
   "source": [
    "play_temp.columns"
   ]
  },
  {
   "cell_type": "markdown",
   "id": "a262bd8d",
   "metadata": {},
   "source": [
    "## 크게 3가지 데이터 셋으로 구분함. 1)play_temp : 전체, 2)visual : 시각화용, 3)analysis : 분석\n",
    "## 데이터 분류는 1)범주 : category, type, content Rating 2) 연속 :Reviews, Size, installs, Rating, Price\n",
    "## Installs는 고민하다가 카테고리보다는 연속이 맞을 것 같음"
   ]
  },
  {
   "cell_type": "code",
   "execution_count": 17,
   "id": "3bab0293",
   "metadata": {},
   "outputs": [
    {
     "data": {
      "text/html": [
       "<div>\n",
       "<style scoped>\n",
       "    .dataframe tbody tr th:only-of-type {\n",
       "        vertical-align: middle;\n",
       "    }\n",
       "\n",
       "    .dataframe tbody tr th {\n",
       "        vertical-align: top;\n",
       "    }\n",
       "\n",
       "    .dataframe thead th {\n",
       "        text-align: right;\n",
       "    }\n",
       "</style>\n",
       "<table border=\"1\" class=\"dataframe\">\n",
       "  <thead>\n",
       "    <tr style=\"text-align: right;\">\n",
       "      <th></th>\n",
       "      <th>Category_new</th>\n",
       "      <th>Reviews</th>\n",
       "      <th>Size</th>\n",
       "      <th>Installs</th>\n",
       "      <th>Type_new</th>\n",
       "      <th>Price</th>\n",
       "      <th>Content_rating_new</th>\n",
       "      <th>Last Updated</th>\n",
       "      <th>Rating</th>\n",
       "    </tr>\n",
       "  </thead>\n",
       "  <tbody>\n",
       "    <tr>\n",
       "      <th>0</th>\n",
       "      <td>1</td>\n",
       "      <td>159</td>\n",
       "      <td>9000000.0</td>\n",
       "      <td>10000</td>\n",
       "      <td>1</td>\n",
       "      <td>0</td>\n",
       "      <td>1</td>\n",
       "      <td>2018-01-07</td>\n",
       "      <td>4.1</td>\n",
       "    </tr>\n",
       "    <tr>\n",
       "      <th>1</th>\n",
       "      <td>1</td>\n",
       "      <td>967</td>\n",
       "      <td>4000000.0</td>\n",
       "      <td>500000</td>\n",
       "      <td>1</td>\n",
       "      <td>0</td>\n",
       "      <td>1</td>\n",
       "      <td>2018-01-15</td>\n",
       "      <td>3.9</td>\n",
       "    </tr>\n",
       "    <tr>\n",
       "      <th>2</th>\n",
       "      <td>1</td>\n",
       "      <td>87510</td>\n",
       "      <td>700000.0</td>\n",
       "      <td>5000000</td>\n",
       "      <td>1</td>\n",
       "      <td>0</td>\n",
       "      <td>1</td>\n",
       "      <td>2018-08-01</td>\n",
       "      <td>4.7</td>\n",
       "    </tr>\n",
       "    <tr>\n",
       "      <th>3</th>\n",
       "      <td>1</td>\n",
       "      <td>215644</td>\n",
       "      <td>5000000.0</td>\n",
       "      <td>50000000</td>\n",
       "      <td>1</td>\n",
       "      <td>0</td>\n",
       "      <td>2</td>\n",
       "      <td>2018-06-08</td>\n",
       "      <td>4.5</td>\n",
       "    </tr>\n",
       "    <tr>\n",
       "      <th>4</th>\n",
       "      <td>1</td>\n",
       "      <td>967</td>\n",
       "      <td>800000.0</td>\n",
       "      <td>100000</td>\n",
       "      <td>1</td>\n",
       "      <td>0</td>\n",
       "      <td>1</td>\n",
       "      <td>2018-06-20</td>\n",
       "      <td>4.3</td>\n",
       "    </tr>\n",
       "  </tbody>\n",
       "</table>\n",
       "</div>"
      ],
      "text/plain": [
       "   Category_new  Reviews       Size  Installs  Type_new  Price  \\\n",
       "0             1      159  9000000.0     10000         1      0   \n",
       "1             1      967  4000000.0    500000         1      0   \n",
       "2             1    87510   700000.0   5000000         1      0   \n",
       "3             1   215644  5000000.0  50000000         1      0   \n",
       "4             1      967   800000.0    100000         1      0   \n",
       "\n",
       "   Content_rating_new Last Updated  Rating  \n",
       "0                   1   2018-01-07     4.1  \n",
       "1                   1   2018-01-15     3.9  \n",
       "2                   1   2018-08-01     4.7  \n",
       "3                   2   2018-06-08     4.5  \n",
       "4                   1   2018-06-20     4.3  "
      ]
     },
     "execution_count": 17,
     "metadata": {},
     "output_type": "execute_result"
    }
   ],
   "source": [
    "play_set_analysis = play_temp[['Category_new', 'Reviews', 'Size', 'Installs', 'Type_new', 'Price', 'Content_rating_new', \n",
    "                               'Last Updated', 'Rating']]\n",
    "play_set_visual = play_temp[['Category', 'Reviews', 'Size', 'Installs', 'Type', 'Price', 'Content Rating', \n",
    "                             'Last Updated', 'Rating']]\n",
    "play_set_analysis.head(5)"
   ]
  },
  {
   "cell_type": "code",
   "execution_count": 18,
   "id": "586ce586",
   "metadata": {},
   "outputs": [
    {
     "data": {
      "text/html": [
       "<div>\n",
       "<style scoped>\n",
       "    .dataframe tbody tr th:only-of-type {\n",
       "        vertical-align: middle;\n",
       "    }\n",
       "\n",
       "    .dataframe tbody tr th {\n",
       "        vertical-align: top;\n",
       "    }\n",
       "\n",
       "    .dataframe thead th {\n",
       "        text-align: right;\n",
       "    }\n",
       "</style>\n",
       "<table border=\"1\" class=\"dataframe\">\n",
       "  <thead>\n",
       "    <tr style=\"text-align: right;\">\n",
       "      <th></th>\n",
       "      <th>Category</th>\n",
       "      <th>Reviews</th>\n",
       "      <th>Size</th>\n",
       "      <th>Installs</th>\n",
       "      <th>Type</th>\n",
       "      <th>Price</th>\n",
       "      <th>Content Rating</th>\n",
       "      <th>Last Updated</th>\n",
       "      <th>Rating</th>\n",
       "    </tr>\n",
       "  </thead>\n",
       "  <tbody>\n",
       "    <tr>\n",
       "      <th>0</th>\n",
       "      <td>ART_AND_DESIGN</td>\n",
       "      <td>159</td>\n",
       "      <td>9000000.0</td>\n",
       "      <td>10000</td>\n",
       "      <td>Free</td>\n",
       "      <td>0</td>\n",
       "      <td>Everyone</td>\n",
       "      <td>2018-01-07</td>\n",
       "      <td>4.1</td>\n",
       "    </tr>\n",
       "    <tr>\n",
       "      <th>1</th>\n",
       "      <td>ART_AND_DESIGN</td>\n",
       "      <td>967</td>\n",
       "      <td>4000000.0</td>\n",
       "      <td>500000</td>\n",
       "      <td>Free</td>\n",
       "      <td>0</td>\n",
       "      <td>Everyone</td>\n",
       "      <td>2018-01-15</td>\n",
       "      <td>3.9</td>\n",
       "    </tr>\n",
       "    <tr>\n",
       "      <th>2</th>\n",
       "      <td>ART_AND_DESIGN</td>\n",
       "      <td>87510</td>\n",
       "      <td>700000.0</td>\n",
       "      <td>5000000</td>\n",
       "      <td>Free</td>\n",
       "      <td>0</td>\n",
       "      <td>Everyone</td>\n",
       "      <td>2018-08-01</td>\n",
       "      <td>4.7</td>\n",
       "    </tr>\n",
       "    <tr>\n",
       "      <th>3</th>\n",
       "      <td>ART_AND_DESIGN</td>\n",
       "      <td>215644</td>\n",
       "      <td>5000000.0</td>\n",
       "      <td>50000000</td>\n",
       "      <td>Free</td>\n",
       "      <td>0</td>\n",
       "      <td>Teen</td>\n",
       "      <td>2018-06-08</td>\n",
       "      <td>4.5</td>\n",
       "    </tr>\n",
       "    <tr>\n",
       "      <th>4</th>\n",
       "      <td>ART_AND_DESIGN</td>\n",
       "      <td>967</td>\n",
       "      <td>800000.0</td>\n",
       "      <td>100000</td>\n",
       "      <td>Free</td>\n",
       "      <td>0</td>\n",
       "      <td>Everyone</td>\n",
       "      <td>2018-06-20</td>\n",
       "      <td>4.3</td>\n",
       "    </tr>\n",
       "  </tbody>\n",
       "</table>\n",
       "</div>"
      ],
      "text/plain": [
       "         Category  Reviews       Size  Installs  Type  Price Content Rating  \\\n",
       "0  ART_AND_DESIGN      159  9000000.0     10000  Free      0       Everyone   \n",
       "1  ART_AND_DESIGN      967  4000000.0    500000  Free      0       Everyone   \n",
       "2  ART_AND_DESIGN    87510   700000.0   5000000  Free      0       Everyone   \n",
       "3  ART_AND_DESIGN   215644  5000000.0  50000000  Free      0           Teen   \n",
       "4  ART_AND_DESIGN      967   800000.0    100000  Free      0       Everyone   \n",
       "\n",
       "  Last Updated  Rating  \n",
       "0   2018-01-07     4.1  \n",
       "1   2018-01-15     3.9  \n",
       "2   2018-08-01     4.7  \n",
       "3   2018-06-08     4.5  \n",
       "4   2018-06-20     4.3  "
      ]
     },
     "execution_count": 18,
     "metadata": {},
     "output_type": "execute_result"
    }
   ],
   "source": [
    "play_set_visual.head(5)"
   ]
  },
  {
   "cell_type": "markdown",
   "id": "b835cc5d",
   "metadata": {},
   "source": [
    "# 데이터 시각화\n",
    "## Rating에 따른 각 칼럼 별 비교\n",
    "### category 별 rating 비교 : Events 카테고리의 rating 평균이 가장 높고 dating이 가장 낮음"
   ]
  },
  {
   "cell_type": "code",
   "execution_count": 19,
   "id": "24d0559a",
   "metadata": {
    "scrolled": true
   },
   "outputs": [
    {
     "data": {
      "text/plain": [
       "<BarContainer object of 33 artists>"
      ]
     },
     "execution_count": 19,
     "metadata": {},
     "output_type": "execute_result"
    },
    {
     "data": {
      "image/png": "[encoded data removed]",
      "text/plain": [
       "<Figure size 1080x720 with 1 Axes>"
      ]
     },
     "metadata": {
      "needs_background": "light"
     },
     "output_type": "display_data"
    }
   ],
   "source": [
    "category_mean = play_set_visual.groupby(['Category']).mean().sort_values(by=['Rating'], ascending=True)\n",
    "plt.figure(figsize=(15,10))\n",
    "plt.barh(category_mean.index, category_mean['Rating'])"
   ]
  },
  {
   "cell_type": "markdown",
   "id": "7efef1a4",
   "metadata": {},
   "source": [
    "### 그런데 카테고리는 imblanced data임. 어떤 카테고리 건은 많고 어떤건  적고 - 샘플링 방식의 변경이 필요"
   ]
  },
  {
   "cell_type": "code",
   "execution_count": 20,
   "id": "156e0b0c",
   "metadata": {
    "scrolled": true
   },
   "outputs": [
    {
     "data": {
      "text/plain": [
       "FAMILY                 1971\n",
       "GAME                   1144\n",
       "TOOLS                   843\n",
       "MEDICAL                 463\n",
       "BUSINESS                460\n",
       "PRODUCTIVITY            424\n",
       "PERSONALIZATION         392\n",
       "COMMUNICATION           387\n",
       "SPORTS                  384\n",
       "LIFESTYLE               382\n",
       "FINANCE                 366\n",
       "HEALTH_AND_FITNESS      341\n",
       "PHOTOGRAPHY             335\n",
       "SOCIAL                  295\n",
       "NEWS_AND_MAGAZINES      283\n",
       "SHOPPING                260\n",
       "TRAVEL_AND_LOCAL        258\n",
       "DATING                  234\n",
       "BOOKS_AND_REFERENCE     231\n",
       "VIDEO_PLAYERS           175\n",
       "EDUCATION               156\n",
       "ENTERTAINMENT           149\n",
       "MAPS_AND_NAVIGATION     137\n",
       "FOOD_AND_DRINK          127\n",
       "HOUSE_AND_HOME           88\n",
       "LIBRARIES_AND_DEMO       85\n",
       "AUTO_AND_VEHICLES        85\n",
       "WEATHER                  82\n",
       "ART_AND_DESIGN           65\n",
       "EVENTS                   64\n",
       "PARENTING                60\n",
       "COMICS                   60\n",
       "BEAUTY                   53\n",
       "Name: Category, dtype: int64"
      ]
     },
     "execution_count": 20,
     "metadata": {},
     "output_type": "execute_result"
    }
   ],
   "source": [
    "play_set_visual['Category'].value_counts()"
   ]
  },
  {
   "cell_type": "markdown",
   "id": "e78fbd0c",
   "metadata": {},
   "source": [
    "### Content rating 별 rating 비교 : Adults only 18+가 가장 높고 Mature 17+가 가장 높음."
   ]
  },
  {
   "cell_type": "code",
   "execution_count": 21,
   "id": "6fb590a9",
   "metadata": {
    "scrolled": true
   },
   "outputs": [
    {
     "data": {
      "text/plain": [
       "<BarContainer object of 6 artists>"
      ]
     },
     "execution_count": 21,
     "metadata": {},
     "output_type": "execute_result"
    },
    {
     "data": {
      "image/png": "[encoded data removed]",
      "text/plain": [
       "<Figure size 720x360 with 1 Axes>"
      ]
     },
     "metadata": {
      "needs_background": "light"
     },
     "output_type": "display_data"
    }
   ],
   "source": [
    "content_rating_mean = play_set_visual.groupby(['Content Rating']).mean().sort_values(by=['Rating'], ascending=True)\n",
    "plt.figure(figsize=(10,5))\n",
    "plt.barh(content_rating_mean.index, content_rating_mean['Rating'])"
   ]
  },
  {
   "cell_type": "markdown",
   "id": "b38cae3e",
   "metadata": {},
   "source": [
    "### 하지만 Adults only, unrated는 샘플 수가 너무 작음. 통계적 의미 없음"
   ]
  },
  {
   "cell_type": "code",
   "execution_count": 22,
   "id": "6efc5492",
   "metadata": {},
   "outputs": [
    {
     "data": {
      "text/plain": [
       "Everyone           8714\n",
       "Teen               1208\n",
       "Mature 17+          499\n",
       "Everyone 10+        413\n",
       "Adults only 18+       3\n",
       "Unrated               2\n",
       "Name: Content Rating, dtype: int64"
      ]
     },
     "execution_count": 22,
     "metadata": {},
     "output_type": "execute_result"
    }
   ],
   "source": [
    "play_set_visual['Content Rating'].value_counts()"
   ]
  },
  {
   "cell_type": "markdown",
   "id": "f1343281",
   "metadata": {},
   "source": [
    "### Type 별 rating 비교 : "
   ]
  },
  {
   "cell_type": "code",
   "execution_count": 23,
   "id": "0c0913f0",
   "metadata": {},
   "outputs": [
    {
     "data": {
      "text/plain": [
       "<BarContainer object of 2 artists>"
      ]
     },
     "execution_count": 23,
     "metadata": {},
     "output_type": "execute_result"
    },
    {
     "data": {
      "image/png": "[encoded data removed]",
      "text/plain": [
       "<Figure size 576x288 with 1 Axes>"
      ]
     },
     "metadata": {
      "needs_background": "light"
     },
     "output_type": "display_data"
    }
   ],
   "source": [
    "type_mean = play_set_visual.groupby(['Type']).mean().sort_values(by=['Rating'], ascending=True)\n",
    "plt.figure(figsize=(8,4))\n",
    "plt.barh(type_mean.index, type_mean['Rating'])"
   ]
  },
  {
   "cell_type": "markdown",
   "id": "83b5ff7e",
   "metadata": {},
   "source": [
    "### Type도 Free가 압도적으로 많음. 통계적 유의미를 가지려면 오버샘플링을하던지 해야함. 차이점은 Free인 경우 3점 이하인 것들이 있는 반면 Paid는 3점 이상인 경우가 대다수"
   ]
  },
  {
   "cell_type": "code",
   "execution_count": 24,
   "id": "952e6310",
   "metadata": {},
   "outputs": [
    {
     "data": {
      "text/plain": [
       "Free    10039\n",
       "Paid      800\n",
       "Name: Type, dtype: int64"
      ]
     },
     "execution_count": 24,
     "metadata": {},
     "output_type": "execute_result"
    }
   ],
   "source": [
    "play_set_visual['Type'].value_counts()"
   ]
  },
  {
   "cell_type": "code",
   "execution_count": 25,
   "id": "3504ad43",
   "metadata": {},
   "outputs": [
    {
     "data": {
      "text/plain": [
       "<seaborn.axisgrid.FacetGrid at 0x1e7afa6bf40>"
      ]
     },
     "execution_count": 25,
     "metadata": {},
     "output_type": "execute_result"
    },
    {
     "data": {
      "image/png": "[encoded data removed]",
      "text/plain": [
       "<Figure size 432x216 with 2 Axes>"
      ]
     },
     "metadata": {
      "needs_background": "light"
     },
     "output_type": "display_data"
    }
   ],
   "source": [
    "g = sns.FacetGrid(play_set_visual, col='Type')\n",
    "g.map(plt.hist, 'Rating', bins=20)"
   ]
  },
  {
   "cell_type": "markdown",
   "id": "d3972358",
   "metadata": {},
   "source": [
    "### 연속인 칼럼들 scatter matrix 그려보면 알아보기 힘들어서 Scale 조절부터 하겠음"
   ]
  },
  {
   "cell_type": "code",
   "execution_count": 30,
   "id": "1721f5f5",
   "metadata": {},
   "outputs": [
    {
     "data": {
      "text/plain": [
       "<seaborn.axisgrid.PairGrid at 0x1e7b42a2ee0>"
      ]
     },
     "execution_count": 30,
     "metadata": {},
     "output_type": "execute_result"
    },
    {
     "data": {
      "image/png": "[encoded data removed]",
      "text/plain": [
       "<Figure size 772x720 with 20 Axes>"
      ]
     },
     "metadata": {
      "needs_background": "light"
     },
     "output_type": "display_data"
    }
   ],
   "source": [
    "play_set_visual_temp = play_set_visual[['Reviews', 'Size', 'Installs', 'Price', 'Rating']]\n",
    "\n",
    "sns.pairplot(play_set_visual_temp, hue=\"Rating\")"
   ]
  },
  {
   "cell_type": "code",
   "execution_count": null,
   "id": "6f72a380",
   "metadata": {},
   "outputs": [],
   "source": []
  }
 ],
 "metadata": {
  "kernelspec": {
   "display_name": "Python 3",
   "language": "python",
   "name": "python3"
  },
  "language_info": {
   "codemirror_mode": {
    "name": "ipython",
    "version": 3
   },
   "file_extension": ".py",
   "mimetype": "text/x-python",
   "name": "python",
   "nbconvert_exporter": "python",
   "pygments_lexer": "ipython3",
   "version": "3.9.4"
  }
 },
 "nbformat": 4,
 "nbformat_minor": 5
}
